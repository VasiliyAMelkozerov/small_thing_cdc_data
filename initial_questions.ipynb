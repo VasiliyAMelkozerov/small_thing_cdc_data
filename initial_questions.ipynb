{
 "cells": [
  {
   "attachments": {},
   "cell_type": "markdown",
   "metadata": {},
   "source": [
    "# CDC gun violence stats"
   ]
  },
  {
   "cell_type": "code",
   "execution_count": 1,
   "metadata": {},
   "outputs": [
    {
     "name": "stderr",
     "output_type": "stream",
     "text": [
      "/usr/local/anaconda3/lib/python3.9/site-packages/scipy/__init__.py:146: UserWarning: A NumPy version >=1.16.5 and <1.23.0 is required for this version of SciPy (detected version 1.23.0\n",
      "  warnings.warn(f\"A NumPy version >={np_minversion} and <{np_maxversion}\"\n"
     ]
    }
   ],
   "source": [
    "import pandas as pd\n",
    "import seaborn as sns"
   ]
  },
  {
   "cell_type": "code",
   "execution_count": 3,
   "metadata": {},
   "outputs": [],
   "source": [
    "df = pd.read_csv('data-table.csv')"
   ]
  },
  {
   "attachments": {},
   "cell_type": "markdown",
   "metadata": {},
   "source": [
    "TThis data has been gotten from the CDC maybe indirectly but as far as sources go this one is pretty legitimate."
   ]
  },
  {
   "attachments": {},
   "cell_type": "markdown",
   "metadata": {},
   "source": [
    "## Investigating the dataset"
   ]
  },
  {
   "cell_type": "code",
   "execution_count": 4,
   "metadata": {},
   "outputs": [
    {
     "data": {
      "text/html": [
       "<div>\n",
       "<style scoped>\n",
       "    .dataframe tbody tr th:only-of-type {\n",
       "        vertical-align: middle;\n",
       "    }\n",
       "\n",
       "    .dataframe tbody tr th {\n",
       "        vertical-align: top;\n",
       "    }\n",
       "\n",
       "    .dataframe thead th {\n",
       "        text-align: right;\n",
       "    }\n",
       "</style>\n",
       "<table border=\"1\" class=\"dataframe\">\n",
       "  <thead>\n",
       "    <tr style=\"text-align: right;\">\n",
       "      <th></th>\n",
       "      <th>YEAR</th>\n",
       "      <th>STATE</th>\n",
       "      <th>RATE</th>\n",
       "      <th>DEATHS</th>\n",
       "      <th>URL</th>\n",
       "    </tr>\n",
       "  </thead>\n",
       "  <tbody>\n",
       "    <tr>\n",
       "      <th>0</th>\n",
       "      <td>2021</td>\n",
       "      <td>AL</td>\n",
       "      <td>26.4</td>\n",
       "      <td>1315</td>\n",
       "      <td>/nchs/pressroom/states/alabama/al.htm</td>\n",
       "    </tr>\n",
       "    <tr>\n",
       "      <th>1</th>\n",
       "      <td>2021</td>\n",
       "      <td>AK</td>\n",
       "      <td>25.2</td>\n",
       "      <td>182</td>\n",
       "      <td>/nchs/pressroom/states/alaska/ak.htm</td>\n",
       "    </tr>\n",
       "    <tr>\n",
       "      <th>2</th>\n",
       "      <td>2021</td>\n",
       "      <td>AZ</td>\n",
       "      <td>18.3</td>\n",
       "      <td>1365</td>\n",
       "      <td>/nchs/pressroom/states/arizona/az.htm</td>\n",
       "    </tr>\n",
       "    <tr>\n",
       "      <th>3</th>\n",
       "      <td>2021</td>\n",
       "      <td>AR</td>\n",
       "      <td>23.3</td>\n",
       "      <td>698</td>\n",
       "      <td>/nchs/pressroom/states/arkansas/ar.htm</td>\n",
       "    </tr>\n",
       "    <tr>\n",
       "      <th>4</th>\n",
       "      <td>2021</td>\n",
       "      <td>CA</td>\n",
       "      <td>9.0</td>\n",
       "      <td>3576</td>\n",
       "      <td>/nchs/pressroom/states/california/ca.htm</td>\n",
       "    </tr>\n",
       "    <tr>\n",
       "      <th>5</th>\n",
       "      <td>2021</td>\n",
       "      <td>CO</td>\n",
       "      <td>17.8</td>\n",
       "      <td>1064</td>\n",
       "      <td>/nchs/pressroom/states/colorado/co.htm</td>\n",
       "    </tr>\n",
       "    <tr>\n",
       "      <th>6</th>\n",
       "      <td>2021</td>\n",
       "      <td>CT</td>\n",
       "      <td>6.7</td>\n",
       "      <td>248</td>\n",
       "      <td>/nchs/pressroom/states/connecticut/ct.htm</td>\n",
       "    </tr>\n",
       "    <tr>\n",
       "      <th>7</th>\n",
       "      <td>2021</td>\n",
       "      <td>DE</td>\n",
       "      <td>16.6</td>\n",
       "      <td>158</td>\n",
       "      <td>/nchs/pressroom/states/delaware/de.htm</td>\n",
       "    </tr>\n",
       "    <tr>\n",
       "      <th>8</th>\n",
       "      <td>2021</td>\n",
       "      <td>FL</td>\n",
       "      <td>14.1</td>\n",
       "      <td>3142</td>\n",
       "      <td>/nchs/pressroom/states/florida/fl.htm</td>\n",
       "    </tr>\n",
       "    <tr>\n",
       "      <th>9</th>\n",
       "      <td>2021</td>\n",
       "      <td>GA</td>\n",
       "      <td>20.3</td>\n",
       "      <td>2200</td>\n",
       "      <td>/nchs/pressroom/states/georgia/ga.htm</td>\n",
       "    </tr>\n",
       "    <tr>\n",
       "      <th>10</th>\n",
       "      <td>2021</td>\n",
       "      <td>HI</td>\n",
       "      <td>4.8</td>\n",
       "      <td>71</td>\n",
       "      <td>/nchs/pressroom/states/hawaii/hi.htm</td>\n",
       "    </tr>\n",
       "    <tr>\n",
       "      <th>11</th>\n",
       "      <td>2021</td>\n",
       "      <td>ID</td>\n",
       "      <td>16.3</td>\n",
       "      <td>309</td>\n",
       "      <td>/nchs/pressroom/states/idaho/id.htm</td>\n",
       "    </tr>\n",
       "    <tr>\n",
       "      <th>12</th>\n",
       "      <td>2021</td>\n",
       "      <td>IL</td>\n",
       "      <td>16.1</td>\n",
       "      <td>1995</td>\n",
       "      <td>/nchs/pressroom/states/illinois/il.htm</td>\n",
       "    </tr>\n",
       "    <tr>\n",
       "      <th>13</th>\n",
       "      <td>2021</td>\n",
       "      <td>IN</td>\n",
       "      <td>18.4</td>\n",
       "      <td>1251</td>\n",
       "      <td>/nchs/pressroom/states/indiana/in.htm</td>\n",
       "    </tr>\n",
       "    <tr>\n",
       "      <th>14</th>\n",
       "      <td>2021</td>\n",
       "      <td>IA</td>\n",
       "      <td>11.2</td>\n",
       "      <td>364</td>\n",
       "      <td>/nchs/pressroom/states/iowa/ia.htm</td>\n",
       "    </tr>\n",
       "  </tbody>\n",
       "</table>\n",
       "</div>"
      ],
      "text/plain": [
       "    YEAR STATE  RATE  DEATHS                                        URL\n",
       "0   2021    AL  26.4    1315      /nchs/pressroom/states/alabama/al.htm\n",
       "1   2021    AK  25.2     182       /nchs/pressroom/states/alaska/ak.htm\n",
       "2   2021    AZ  18.3    1365      /nchs/pressroom/states/arizona/az.htm\n",
       "3   2021    AR  23.3     698     /nchs/pressroom/states/arkansas/ar.htm\n",
       "4   2021    CA   9.0    3576   /nchs/pressroom/states/california/ca.htm\n",
       "5   2021    CO  17.8    1064     /nchs/pressroom/states/colorado/co.htm\n",
       "6   2021    CT   6.7     248  /nchs/pressroom/states/connecticut/ct.htm\n",
       "7   2021    DE  16.6     158     /nchs/pressroom/states/delaware/de.htm\n",
       "8   2021    FL  14.1    3142      /nchs/pressroom/states/florida/fl.htm\n",
       "9   2021    GA  20.3    2200      /nchs/pressroom/states/georgia/ga.htm\n",
       "10  2021    HI   4.8      71       /nchs/pressroom/states/hawaii/hi.htm\n",
       "11  2021    ID  16.3     309        /nchs/pressroom/states/idaho/id.htm\n",
       "12  2021    IL  16.1    1995     /nchs/pressroom/states/illinois/il.htm\n",
       "13  2021    IN  18.4    1251      /nchs/pressroom/states/indiana/in.htm\n",
       "14  2021    IA  11.2     364         /nchs/pressroom/states/iowa/ia.htm"
      ]
     },
     "execution_count": 4,
     "metadata": {},
     "output_type": "execute_result"
    }
   ],
   "source": [
    "df.head(15)"
   ]
  },
  {
   "cell_type": "code",
   "execution_count": 14,
   "metadata": {},
   "outputs": [
    {
     "name": "stdout",
     "output_type": "stream",
     "text": [
      "<class 'pandas.core.frame.DataFrame'>\n",
      "RangeIndex: 450 entries, 0 to 449\n",
      "Data columns (total 5 columns):\n",
      " #   Column  Non-Null Count  Dtype  \n",
      "---  ------  --------------  -----  \n",
      " 0   YEAR    450 non-null    int64  \n",
      " 1   STATE   450 non-null    object \n",
      " 2   RATE    450 non-null    float64\n",
      " 3   DEATHS  450 non-null    int64  \n",
      " 4   URL     450 non-null    object \n",
      "dtypes: float64(1), int64(2), object(2)\n",
      "memory usage: 17.7+ KB\n",
      "This is a very solid and complete dataset\n"
     ]
    }
   ],
   "source": [
    "df.info()\n",
    "print(\"This is a very solid and complete dataset.\")"
   ]
  },
  {
   "cell_type": "code",
   "execution_count": 11,
   "metadata": {},
   "outputs": [
    {
     "data": {
      "text/plain": [
       "2021    50\n",
       "2020    50\n",
       "2019    50\n",
       "2018    50\n",
       "2017    50\n",
       "2016    50\n",
       "2015    50\n",
       "2014    50\n",
       "2005    50\n",
       "Name: YEAR, dtype: int64"
      ]
     },
     "execution_count": 11,
     "metadata": {},
     "output_type": "execute_result"
    }
   ],
   "source": [
    "df.YEAR.value_counts()"
   ]
  },
  {
   "attachments": {},
   "cell_type": "markdown",
   "metadata": {},
   "source": [
    "This tells us that there are no gaps in years. That all 50 states of the US are accounted for from 2005 ... 2014 - 2021.\n",
    "\n",
    "There is a gap between 2005 and 2014."
   ]
  },
  {
   "cell_type": "code",
   "execution_count": 16,
   "metadata": {},
   "outputs": [
    {
     "data": {
      "text/plain": [
       "AL    9\n",
       "PA    9\n",
       "NV    9\n",
       "NH    9\n",
       "NJ    9\n",
       "NM    9\n",
       "NY    9\n",
       "NC    9\n",
       "ND    9\n",
       "OH    9\n",
       "OK    9\n",
       "OR    9\n",
       "RI    9\n",
       "AK    9\n",
       "SC    9\n",
       "SD    9\n",
       "TN    9\n",
       "TX    9\n",
       "UT    9\n",
       "VT    9\n",
       "VA    9\n",
       "WA    9\n",
       "WV    9\n",
       "WI    9\n",
       "NE    9\n",
       "MT    9\n",
       "MO    9\n",
       "MS    9\n",
       "AZ    9\n",
       "AR    9\n",
       "CA    9\n",
       "CO    9\n",
       "CT    9\n",
       "DE    9\n",
       "FL    9\n",
       "GA    9\n",
       "HI    9\n",
       "ID    9\n",
       "IL    9\n",
       "IN    9\n",
       "IA    9\n",
       "KS    9\n",
       "KY    9\n",
       "LA    9\n",
       "ME    9\n",
       "MD    9\n",
       "MA    9\n",
       "MI    9\n",
       "MN    9\n",
       "WY    9\n",
       "Name: STATE, dtype: int64"
      ]
     },
     "execution_count": 16,
     "metadata": {},
     "output_type": "execute_result"
    }
   ],
   "source": [
    "df.STATE.value_counts()"
   ]
  },
  {
   "attachments": {},
   "cell_type": "markdown",
   "metadata": {},
   "source": [
    "All states are accounted from in the years they are surveyed."
   ]
  },
  {
   "cell_type": "code",
   "execution_count": null,
   "metadata": {},
   "outputs": [],
   "source": [
    "def is_unique(s):\n",
    "    a = s.to_numpy() # s.values (pandas<0.24)\n",
    "    return (a[0] == a).all()\n",
    "\n",
    "is_unique(df['counts'])"
   ]
  },
  {
   "cell_type": "code",
   "execution_count": 20,
   "metadata": {},
   "outputs": [
    {
     "data": {
      "text/plain": [
       "False"
      ]
     },
     "execution_count": 20,
     "metadata": {},
     "output_type": "execute_result"
    }
   ],
   "source": [
    "def is_unique(df):\n",
    "    a = df.to_numpy()\n",
    "    return (a[0] == a).all()\n",
    "\n",
    "is_unique(df[\"STATE\"])"
   ]
  },
  {
   "attachments": {},
   "cell_type": "markdown",
   "metadata": {},
   "source": [
    "In the efforts of trying to see if all states were recorded 9 times properly I have tried importing a function to do so. I have misued it and have come to a conclusion that there are other ways of accomplishing answer this question."
   ]
  },
  {
   "cell_type": "code",
   "execution_count": 21,
   "metadata": {},
   "outputs": [
    {
     "data": {
      "text/html": [
       "<div>\n",
       "<style scoped>\n",
       "    .dataframe tbody tr th:only-of-type {\n",
       "        vertical-align: middle;\n",
       "    }\n",
       "\n",
       "    .dataframe tbody tr th {\n",
       "        vertical-align: top;\n",
       "    }\n",
       "\n",
       "    .dataframe thead th {\n",
       "        text-align: right;\n",
       "    }\n",
       "</style>\n",
       "<table border=\"1\" class=\"dataframe\">\n",
       "  <thead>\n",
       "    <tr style=\"text-align: right;\">\n",
       "      <th></th>\n",
       "      <th>YEAR</th>\n",
       "      <th>STATE</th>\n",
       "      <th>RATE</th>\n",
       "      <th>DEATHS</th>\n",
       "      <th>URL</th>\n",
       "    </tr>\n",
       "  </thead>\n",
       "  <tbody>\n",
       "    <tr>\n",
       "      <th>0</th>\n",
       "      <td>2021</td>\n",
       "      <td>AL</td>\n",
       "      <td>26.4</td>\n",
       "      <td>1315</td>\n",
       "      <td>/nchs/pressroom/states/alabama/al.htm</td>\n",
       "    </tr>\n",
       "    <tr>\n",
       "      <th>1</th>\n",
       "      <td>2021</td>\n",
       "      <td>AK</td>\n",
       "      <td>25.2</td>\n",
       "      <td>182</td>\n",
       "      <td>/nchs/pressroom/states/alaska/ak.htm</td>\n",
       "    </tr>\n",
       "    <tr>\n",
       "      <th>2</th>\n",
       "      <td>2021</td>\n",
       "      <td>AZ</td>\n",
       "      <td>18.3</td>\n",
       "      <td>1365</td>\n",
       "      <td>/nchs/pressroom/states/arizona/az.htm</td>\n",
       "    </tr>\n",
       "    <tr>\n",
       "      <th>3</th>\n",
       "      <td>2021</td>\n",
       "      <td>AR</td>\n",
       "      <td>23.3</td>\n",
       "      <td>698</td>\n",
       "      <td>/nchs/pressroom/states/arkansas/ar.htm</td>\n",
       "    </tr>\n",
       "    <tr>\n",
       "      <th>4</th>\n",
       "      <td>2021</td>\n",
       "      <td>CA</td>\n",
       "      <td>9.0</td>\n",
       "      <td>3576</td>\n",
       "      <td>/nchs/pressroom/states/california/ca.htm</td>\n",
       "    </tr>\n",
       "    <tr>\n",
       "      <th>...</th>\n",
       "      <td>...</td>\n",
       "      <td>...</td>\n",
       "      <td>...</td>\n",
       "      <td>...</td>\n",
       "      <td>...</td>\n",
       "    </tr>\n",
       "    <tr>\n",
       "      <th>445</th>\n",
       "      <td>2005</td>\n",
       "      <td>VA</td>\n",
       "      <td>11.5</td>\n",
       "      <td>888</td>\n",
       "      <td>/nchs/pressroom/states/virginia/virginia.htm</td>\n",
       "    </tr>\n",
       "    <tr>\n",
       "      <th>446</th>\n",
       "      <td>2005</td>\n",
       "      <td>WA</td>\n",
       "      <td>8.8</td>\n",
       "      <td>567</td>\n",
       "      <td>/nchs/pressroom/states/washington/washington.htm</td>\n",
       "    </tr>\n",
       "    <tr>\n",
       "      <th>447</th>\n",
       "      <td>2005</td>\n",
       "      <td>WV</td>\n",
       "      <td>13.8</td>\n",
       "      <td>261</td>\n",
       "      <td>/nchs/pressroom/states/westvirginia/westvirgin...</td>\n",
       "    </tr>\n",
       "    <tr>\n",
       "      <th>448</th>\n",
       "      <td>2005</td>\n",
       "      <td>WI</td>\n",
       "      <td>8.5</td>\n",
       "      <td>474</td>\n",
       "      <td>/nchs/pressroom/states/wisconsin/wisconsin.htm</td>\n",
       "    </tr>\n",
       "    <tr>\n",
       "      <th>449</th>\n",
       "      <td>2005</td>\n",
       "      <td>WY</td>\n",
       "      <td>13.4</td>\n",
       "      <td>71</td>\n",
       "      <td>/nchs/pressroom/states/wyoming/wyoming.htm</td>\n",
       "    </tr>\n",
       "  </tbody>\n",
       "</table>\n",
       "<p>450 rows × 5 columns</p>\n",
       "</div>"
      ],
      "text/plain": [
       "     YEAR STATE  RATE  DEATHS  \\\n",
       "0    2021    AL  26.4    1315   \n",
       "1    2021    AK  25.2     182   \n",
       "2    2021    AZ  18.3    1365   \n",
       "3    2021    AR  23.3     698   \n",
       "4    2021    CA   9.0    3576   \n",
       "..    ...   ...   ...     ...   \n",
       "445  2005    VA  11.5     888   \n",
       "446  2005    WA   8.8     567   \n",
       "447  2005    WV  13.8     261   \n",
       "448  2005    WI   8.5     474   \n",
       "449  2005    WY  13.4      71   \n",
       "\n",
       "                                                   URL  \n",
       "0                /nchs/pressroom/states/alabama/al.htm  \n",
       "1                 /nchs/pressroom/states/alaska/ak.htm  \n",
       "2                /nchs/pressroom/states/arizona/az.htm  \n",
       "3               /nchs/pressroom/states/arkansas/ar.htm  \n",
       "4             /nchs/pressroom/states/california/ca.htm  \n",
       "..                                                 ...  \n",
       "445       /nchs/pressroom/states/virginia/virginia.htm  \n",
       "446   /nchs/pressroom/states/washington/washington.htm  \n",
       "447  /nchs/pressroom/states/westvirginia/westvirgin...  \n",
       "448     /nchs/pressroom/states/wisconsin/wisconsin.htm  \n",
       "449         /nchs/pressroom/states/wyoming/wyoming.htm  \n",
       "\n",
       "[450 rows x 5 columns]"
      ]
     },
     "execution_count": 21,
     "metadata": {},
     "output_type": "execute_result"
    }
   ],
   "source": [
    "df[df[\"STATE\"] != 9]"
   ]
  },
  {
   "cell_type": "code",
   "execution_count": 23,
   "metadata": {},
   "outputs": [
    {
     "data": {
      "text/plain": [
       "'ALAKAZARCACOCTDEFLGAHIIDILINIAKSKYLAMEMDMAMIMNMSMOMTNENVNHNJNMNYNCNDOHOKORPARISCSDTNTXUTVTVAWAWVWIWYALAKAZARCACOCTDEFLGAHIIDILINIAKSKYLAMEMDMAMIMNMSMOMTNENVNHNJNMNYNCNDOHOKORPARISCSDTNTXUTVTVAWAWVWIWYALAKAZARCACOCTDEFLGAHIIDILINIAKSKYLAMEMDMAMIMNMSMOMTNENVNHNJNMNYNCNDOHOKORPARISCSDTNTXUTVTVAWAWVWIWYALAKAZARCACOCTDEFLGAHIIDILINIAKSKYLAMEMDMAMIMNMSMOMTNENVNHNJNMNYNCNDOHOKORPARISCSDTNTXUTVTVAWAWVWIWYALAKAZARCACOCTDEFLGAHIIDILINIAKSKYLAMEMDMAMIMNMSMOMTNENVNHNJNMNYNCNDOHOKORPARISCSDTNTXUTVTVAWAWVWIWYALAKAZARCACOCTDEFLGAHIIDILINIAKSKYLAMEMDMAMIMNMSMOMTNENVNHNJNMNYNCNDOHOKORPARISCSDTNTXUTVTVAWAWVWIWYALAKAZARCACOCTDEFLGAHIIDILINIAKSKYLAMEMDMAMIMNMSMOMTNENVNHNJNMNYNCNDOHOKORPARISCSDTNTXUTVTVAWAWVWIWYALAKAZARCACOCTDEFLGAHIIDILINIAKSKYLAMEMDMAMIMNMSMOMTNENVNHNJNMNYNCNDOHOKORPARISCSDTNTXUTVTVAWAWVWIWYALAKAZARCACOCTDEFLGAHIIDILINIAKSKYLAMEMDMAMIMNMSMOMTNENVNHNJNMNYNCNDOHOKORPARISCSDTNTXUTVTVAWAWVWIWY'"
      ]
     },
     "execution_count": 23,
     "metadata": {},
     "output_type": "execute_result"
    }
   ],
   "source": [
    "df.STATE.sum()"
   ]
  },
  {
   "attachments": {},
   "cell_type": "markdown",
   "metadata": {},
   "source": [
    "Even sillier still is looking into a new fix when I simply could have just readin text editor.\n",
    "\n",
    "In conclusion all statesare equally represented in the given dataset."
   ]
  },
  {
   "cell_type": "code",
   "execution_count": null,
   "metadata": {},
   "outputs": [],
   "source": []
  }
 ],
 "metadata": {
  "kernelspec": {
   "display_name": "base",
   "language": "python",
   "name": "python3"
  },
  "language_info": {
   "codemirror_mode": {
    "name": "ipython",
    "version": 3
   },
   "file_extension": ".py",
   "mimetype": "text/x-python",
   "name": "python",
   "nbconvert_exporter": "python",
   "pygments_lexer": "ipython3",
   "version": "3.9.7"
  },
  "orig_nbformat": 4
 },
 "nbformat": 4,
 "nbformat_minor": 2
}
